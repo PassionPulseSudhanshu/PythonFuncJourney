{
 "cells": [
  {
   "cell_type": "code",
   "execution_count": 2,
   "id": "6e5c9785-9bb7-418d-b6a0-13f888ccf656",
   "metadata": {
    "tags": []
   },
   "outputs": [],
   "source": [
    "def even_odd(num):\n",
    "    if num%2==0:\n",
    "        print(\"Even\")\n",
    "    else:\n",
    "        print(\"odd\")\n",
    "    "
   ]
  },
  {
   "cell_type": "code",
   "execution_count": 3,
   "id": "6a5acbd2-bf33-4c04-ac7c-e43c11280580",
   "metadata": {
    "tags": []
   },
   "outputs": [
    {
     "name": "stdout",
     "output_type": "stream",
     "text": [
      "Even\n"
     ]
    }
   ],
   "source": [
    "even_odd(20)\n"
   ]
  },
  {
   "cell_type": "code",
   "execution_count": 4,
   "id": "98024eee-fa25-41b8-99ed-59a58f51a96b",
   "metadata": {
    "tags": []
   },
   "outputs": [
    {
     "name": "stdout",
     "output_type": "stream",
     "text": [
      "odd\n"
     ]
    }
   ],
   "source": [
    "even_odd(23)"
   ]
  },
  {
   "cell_type": "markdown",
   "id": "6e3d3ea1-7018-475e-9b96-2b6e86996ac7",
   "metadata": {},
   "source": [
    "# 2. Write the function to print the entered number in reverse order."
   ]
  },
  {
   "cell_type": "code",
   "execution_count": 9,
   "id": "59618f13-73a9-45a5-b0d3-1c50e8b5aef0",
   "metadata": {
    "tags": []
   },
   "outputs": [
    {
     "name": "stdout",
     "output_type": "stream",
     "text": [
      "enter number 12,20,45,100,25\n"
     ]
    }
   ],
   "source": [
    "num=input(\"enter number\")\n",
    "Entered_no=[]\n",
    "Entered_no.append(num)\n",
    "def reverse(num):\n",
    "    print(num[::-1])"
   ]
  },
  {
   "cell_type": "code",
   "execution_count": 11,
   "id": "6fa19c9f-062b-4911-af67-aadf8742e392",
   "metadata": {
    "tags": []
   },
   "outputs": [
    {
     "name": "stdout",
     "output_type": "stream",
     "text": [
      "['12,20,45,100,25']\n"
     ]
    }
   ],
   "source": [
    "reverse(Entered_no)"
   ]
  },
  {
   "cell_type": "code",
   "execution_count": 13,
   "id": "1400139d-6c72-4ff2-9213-c6ec7ed6ba85",
   "metadata": {
    "tags": []
   },
   "outputs": [
    {
     "name": "stdout",
     "output_type": "stream",
     "text": [
      "Enter number: 1,5,2,4,9,7,8\n"
     ]
    }
   ],
   "source": [
    "num=input(\"Enter number:\")\n",
    "def reverse(num):\n",
    "    print(num[::-1])"
   ]
  },
  {
   "cell_type": "code",
   "execution_count": 14,
   "id": "f9a87f6a-a76c-47e5-aca9-0237f5044a76",
   "metadata": {
    "tags": []
   },
   "outputs": [
    {
     "name": "stdout",
     "output_type": "stream",
     "text": [
      "8,7,9,4,2,5,1\n"
     ]
    }
   ],
   "source": [
    "reverse(num)"
   ]
  },
  {
   "cell_type": "markdown",
   "id": "8b97148c-b5cb-489a-9795-47b8017c41dd",
   "metadata": {},
   "source": [
    "# 3. Write the function to find out whether entered number is prime or not."
   ]
  },
  {
   "cell_type": "code",
   "execution_count": 53,
   "id": "697afa9a-7ca4-4976-b3b0-fbededdd5ad6",
   "metadata": {
    "tags": []
   },
   "outputs": [
    {
     "name": "stdout",
     "output_type": "stream",
     "text": [
      "Enter number: 98\n"
     ]
    }
   ],
   "source": [
    "num=int(input(\"Enter number:\"))\n",
    "def is_prime(num):\n",
    "    for i in range(2,10):\n",
    "        if num%i==0:\n",
    "            print(\"Not prime\")\n",
    "            break\n",
    "        else:\n",
    "            print(\"prime\")\n",
    "            break\n",
    "                  "
   ]
  },
  {
   "cell_type": "code",
   "execution_count": 54,
   "id": "45e8dbc8-47a5-440d-b41a-7e6617533211",
   "metadata": {
    "tags": []
   },
   "outputs": [
    {
     "name": "stdout",
     "output_type": "stream",
     "text": [
      "Not prime\n"
     ]
    }
   ],
   "source": [
    "is_prime(num)"
   ]
  },
  {
   "cell_type": "code",
   "execution_count": 15,
   "id": "7ad0830d-cba0-498f-b76b-3bf391d23e1a",
   "metadata": {
    "tags": []
   },
   "outputs": [
    {
     "name": "stdout",
     "output_type": "stream",
     "text": [
      "enter no. 25\n"
     ]
    },
    {
     "name": "stdout",
     "output_type": "stream",
     "text": [
      "not prime\n"
     ]
    },
    {
     "data": {
      "text/plain": [
       "''"
      ]
     },
     "execution_count": 15,
     "metadata": {},
     "output_type": "execute_result"
    }
   ],
   "source": [
    "def prime(n):\n",
    "    c=0\n",
    "    for i in range(1,n+1):\n",
    "        if n%i==0:\n",
    "            c=c+1\n",
    "    if c==2:\n",
    "        print('no. is prime')\n",
    "    else:\n",
    "        print('not prime')\n",
    "    return ''\n",
    "a=int(input('enter no.'))\n",
    "prime(a)"
   ]
  },
  {
   "cell_type": "markdown",
   "id": "b86634f5-d8ea-4155-a3bc-2f6e7b56f01d",
   "metadata": {},
   "source": [
    "# 4. Write the function to calculate the factorial of a entered number."
   ]
  },
  {
   "cell_type": "code",
   "execution_count": 56,
   "id": "294f69af-ac34-4490-b17f-7602bcb006ff",
   "metadata": {
    "tags": []
   },
   "outputs": [
    {
     "name": "stdout",
     "output_type": "stream",
     "text": [
      "enter number 5\n"
     ]
    },
    {
     "name": "stdout",
     "output_type": "stream",
     "text": [
      "120\n"
     ]
    }
   ],
   "source": [
    "def fac(n):\n",
    "    f=1\n",
    "    for i in range(1,n+1):\n",
    "        f=f*i \n",
    "    return print(f)\n",
    "a=int(input('enter number'))\n",
    "fac(a)   #(5*4*3*2*1)\n",
    "    "
   ]
  },
  {
   "cell_type": "code",
   "execution_count": null,
   "id": "0553c9c0-53e7-4e22-b4d4-7b0419b0a128",
   "metadata": {
    "tags": []
   },
   "outputs": [],
   "source": []
  },
  {
   "cell_type": "markdown",
   "id": "478a8b19-1b68-4cbf-9c21-cf4de405ce72",
   "metadata": {},
   "source": [
    "# 5. Write the function to print the Fibonacci series. The number of terms for Fibonacci\n",
    "series will be entered through keyboard."
   ]
  },
  {
   "cell_type": "code",
   "execution_count": 8,
   "id": "f1be927f-ee09-47b2-bd8f-bc4e78d3c7fa",
   "metadata": {},
   "outputs": [
    {
     "name": "stdout",
     "output_type": "stream",
     "text": [
      "Enter the number of terms for Fibonacci series:  10\n"
     ]
    },
    {
     "name": "stdout",
     "output_type": "stream",
     "text": [
      "Fibonacci Series up to 10 terms:\n",
      "0, 1, 1, 2, 3, 5, 8, 13, 21, 34, \n"
     ]
    }
   ],
   "source": [
    "def fibonacci_series(num_terms):\n",
    "    if num_terms <= 0:\n",
    "        print(\"Number of terms must be a positive integer.\")\n",
    "        return\n",
    "\n",
    "    # Initialize the first two terms of the series\n",
    "    first_term = 0\n",
    "    second_term = 1\n",
    "\n",
    "    # Print the first two terms\n",
    "    print(f\"Fibonacci Series up to {num_terms} terms:\")\n",
    "    print(first_term, end=\", \")\n",
    "    if num_terms > 1:\n",
    "        print(second_term, end=\", \")\n",
    "\n",
    "    # Generate and print the remaining terms\n",
    "    for _ in range(2, num_terms):\n",
    "        next_term = first_term + second_term\n",
    "        print(next_term, end=\", \")\n",
    "\n",
    "        # Update the values for the next iteration\n",
    "        first_term, second_term = second_term, next_term\n",
    "\n",
    "    print()  # Print a newline at the end\n",
    "\n",
    "# Input from the user\n",
    "num_terms = int(input(\"Enter the number of terms for Fibonacci series: \"))\n",
    "fibonacci_series(num_terms)\n",
    "\n",
    "        \n",
    "        \n",
    "\n",
    "        \n",
    "        "
   ]
  },
  {
   "cell_type": "code",
   "execution_count": 22,
   "id": "4510b025-e2f7-47f8-a7ac-a7b625573bd7",
   "metadata": {
    "tags": []
   },
   "outputs": [
    {
     "name": "stdout",
     "output_type": "stream",
     "text": [
      "\n"
     ]
    },
    {
     "name": "stdout",
     "output_type": "stream",
     "text": [
      "enter terms  10\n"
     ]
    },
    {
     "name": "stdout",
     "output_type": "stream",
     "text": [
      "Fibonacci Series up to 10 terms:\n",
      "0 1 1 2 3 5 8 13 21 34 "
     ]
    }
   ],
   "source": [
    "def fib_sr(num_terms):\n",
    "    if num_terms<=0:\n",
    "        print(\"Term should be positive\")\n",
    "    firts_term=0\n",
    "    sec_term=1\n",
    "    print(f\"Fibonacci Series up to {num_terms} terms:\")\n",
    "    print(firts_term, end=\" \")\n",
    "    if num_terms>1:\n",
    "        print(sec_term,end=\" \")\n",
    "    for i in range(2,num_terms):\n",
    "        next_term=firts_term+sec_term\n",
    "        print(next_term,end=\" \")\n",
    "        firts_term,sec_term=sec_term,next_term\n",
    "print()\n",
    "num_terms=int(input(\"enter terms \"))\n",
    "fib_sr(num_terms)"
   ]
  },
  {
   "cell_type": "markdown",
   "id": "688dbbf6-839e-4e3f-a020-a3d89242b6e6",
   "metadata": {},
   "source": [
    "# 7.Write a function to find entered number through keyboard is whether palindrome or not."
   ]
  },
  {
   "cell_type": "code",
   "execution_count": 3,
   "id": "1152ed58-95d9-4c2d-80ff-8f69c0f4701e",
   "metadata": {
    "tags": []
   },
   "outputs": [
    {
     "name": "stdout",
     "output_type": "stream",
     "text": [
      "Enter numbers: 101\n"
     ]
    },
    {
     "name": "stdout",
     "output_type": "stream",
     "text": [
      "Num is Palindrome\n"
     ]
    }
   ],
   "source": [
    "num=input(\"Enter numbers:\")\n",
    "def paldrm(num):\n",
    "        if num[::-1]==num:\n",
    "               print(\"Num is Palindrome\")\n",
    "        else:\n",
    "            print(\"NOt palindrome\")\n",
    "paldrm(num)\n"
   ]
  },
  {
   "cell_type": "code",
   "execution_count": null,
   "id": "cb9d8836-3f24-459d-b392-9ebfefbd22ba",
   "metadata": {},
   "outputs": [],
   "source": [
    "\n"
   ]
  },
  {
   "cell_type": "markdown",
   "id": "a24e561f-ffc0-4c30-bb45-b935ac57910b",
   "metadata": {},
   "source": [
    "# 6. Write the function to find entered number through keyboard is whether Armstrong or not."
   ]
  },
  {
   "cell_type": "code",
   "execution_count": 1,
   "id": "f912b2bc-d939-4b3c-95af-e8262d64c1e7",
   "metadata": {
    "tags": []
   },
   "outputs": [
    {
     "name": "stdout",
     "output_type": "stream",
     "text": [
      "Enter any num: 371\n"
     ]
    },
    {
     "name": "stdout",
     "output_type": "stream",
     "text": [
      "3\n",
      "371\n"
     ]
    }
   ],
   "source": [
    "num=int(input(\"Enter any num:\"))\n",
    "num=str(num)\n",
    "l=len(num)\n",
    "print(l)\n",
    "sum=0\n",
    "for digit in num:\n",
    "    digit=int(digit)\n",
    "    s=digit**l\n",
    "    sum+=s\n",
    "print(sum)"
   ]
  },
  {
   "cell_type": "code",
   "execution_count": 14,
   "id": "89d17aa6-347f-402d-a263-c74e52072e07",
   "metadata": {
    "tags": []
   },
   "outputs": [
    {
     "name": "stdout",
     "output_type": "stream",
     "text": [
      "Enter number: 371\n"
     ]
    },
    {
     "name": "stdout",
     "output_type": "stream",
     "text": [
      "No is Armstrong\n"
     ]
    }
   ],
   "source": [
    "num=int(input(\"Enter number:\"))\n",
    "n=str(num)\n",
    "l=len(n)\n",
    "sum=0\n",
    "def arm(n):\n",
    "    global sum\n",
    "    for digit in n:\n",
    "        digit=int(digit)\n",
    "        s=digit**l\n",
    "        sum=s+sum\n",
    "        \n",
    "    if num==sum:\n",
    "        print(\"No is Armstrong\")\n",
    "    else:\n",
    "        print(\"Not Armstrong\")\n",
    "\n",
    "arm(n)"
   ]
  },
  {
   "cell_type": "markdown",
   "id": "8751001e-e206-4ddd-9dfa-ff6d75305a62",
   "metadata": {
    "tags": []
   },
   "source": [
    "# 8. Write a function that takes a number entered through keyboard and find whether it is positive or negative."
   ]
  },
  {
   "cell_type": "code",
   "execution_count": 2,
   "id": "92ccfc04-bf7d-43dd-9b74-032b1241edd8",
   "metadata": {
    "tags": []
   },
   "outputs": [
    {
     "name": "stdout",
     "output_type": "stream",
     "text": [
      "Enter number: -10\n"
     ]
    },
    {
     "name": "stdout",
     "output_type": "stream",
     "text": [
      "Negative\n"
     ]
    }
   ],
   "source": [
    "num=int(input(\"Enter number:\"))\n",
    "def is_pos(num):\n",
    "    if num>=0:\n",
    "        print('Positive')\n",
    "    else:\n",
    "        print('Negative')\n",
    "is_pos(num)\n",
    "\n",
    "\n",
    "    "
   ]
  },
  {
   "cell_type": "markdown",
   "id": "e138bf6f-02f3-4b13-ba1f-d5824260b343",
   "metadata": {
    "tags": []
   },
   "source": [
    "# 10. Write a function that takes two numbers entered through keyboard and return greatest of them."
   ]
  },
  {
   "cell_type": "code",
   "execution_count": 4,
   "id": "ab114b43-9ffa-43df-8b5c-c5f1f492c173",
   "metadata": {},
   "outputs": [
    {
     "name": "stdout",
     "output_type": "stream",
     "text": [
      "enter no 1: 12\n",
      "enter no 2: 15\n"
     ]
    },
    {
     "name": "stdout",
     "output_type": "stream",
     "text": [
      "15 is greator tha 12\n"
     ]
    }
   ],
   "source": [
    "num1=int(input(\"enter no 1:\"))\n",
    "num2=int(input(\"enter no 2:\"))\n",
    "def great(num1,num2):\n",
    "    if num1>num2:\n",
    "        print(f\"{num1} is greator than {num2}\")\n",
    "    if num1<num2:\n",
    "        print(f\"{num2} is greator tha {num1}\")\n",
    "great(num1,num2)         \n",
    "         "
   ]
  },
  {
   "cell_type": "markdown",
   "id": "aabebd51-0359-4c51-866a-8556a971a123",
   "metadata": {},
   "source": [
    "# 11. Write a function that takes numbers entered through keyboard and return the sum of digits of entered numbers."
   ]
  },
  {
   "cell_type": "code",
   "execution_count": 53,
   "id": "e414fc7e-ad46-4f78-bee4-1ea0da41f10b",
   "metadata": {
    "tags": []
   },
   "outputs": [
    {
     "name": "stdout",
     "output_type": "stream",
     "text": [
      "Enter number: 102\n"
     ]
    }
   ],
   "source": [
    "num=input(\"Enter number:\")\n",
    "l=len(num)\n",
    "\n",
    "def sum_digits(num):\n",
    "    s=0\n",
    "    s=str(s)\n",
    "    for digit in num:\n",
    "        digit=str(digit)\n",
    "        s+=digit\n",
    "sum_digits(num)\n",
    "        "
   ]
  },
  {
   "cell_type": "code",
   "execution_count": 54,
   "id": "a6e9f881-478d-4a1d-b376-bdb728bf6377",
   "metadata": {},
   "outputs": [
    {
     "name": "stdout",
     "output_type": "stream",
     "text": [
      "enter numbers: 10,20,30\n"
     ]
    },
    {
     "ename": "ValueError",
     "evalue": "invalid literal for int() with base 10: '10,20,30'",
     "output_type": "error",
     "traceback": [
      "\u001b[1;31m---------------------------------------------------------------------------\u001b[0m",
      "\u001b[1;31mValueError\u001b[0m                                Traceback (most recent call last)",
      "Cell \u001b[1;32mIn[54], line 10\u001b[0m\n\u001b[0;32m      8\u001b[0m         s\u001b[38;5;241m+\u001b[39m\u001b[38;5;241m=\u001b[39mi\n\u001b[0;32m      9\u001b[0m     \u001b[38;5;28;01mreturn\u001b[39;00m s\n\u001b[1;32m---> 10\u001b[0m total_ad(num)\n",
      "Cell \u001b[1;32mIn[54], line 7\u001b[0m, in \u001b[0;36mtotal_ad\u001b[1;34m(num)\u001b[0m\n\u001b[0;32m      5\u001b[0m s\u001b[38;5;241m=\u001b[39m\u001b[38;5;241m0\u001b[39m\n\u001b[0;32m      6\u001b[0m \u001b[38;5;28;01mfor\u001b[39;00m i \u001b[38;5;129;01min\u001b[39;00m num:\n\u001b[1;32m----> 7\u001b[0m     i\u001b[38;5;241m=\u001b[39m\u001b[38;5;28mint\u001b[39m(i)\n\u001b[0;32m      8\u001b[0m     s\u001b[38;5;241m+\u001b[39m\u001b[38;5;241m=\u001b[39mi\n\u001b[0;32m      9\u001b[0m \u001b[38;5;28;01mreturn\u001b[39;00m s\n",
      "\u001b[1;31mValueError\u001b[0m: invalid literal for int() with base 10: '10,20,30'"
     ]
    }
   ],
   "source": [
    "num=[]\n",
    "q=input(\"enter numbers:\")\n",
    "num.append(q)\n",
    "def total_ad(num):\n",
    "    s=0\n",
    "    for i in num:\n",
    "        i=int(i)\n",
    "        s+=i\n",
    "    return s\n",
    "total_ad(num)\n",
    "\n",
    "    \n",
    "    "
   ]
  },
  {
   "cell_type": "code",
   "execution_count": 50,
   "id": "6dfe9abe-3ff3-4dc6-8445-90b4c0740cff",
   "metadata": {
    "tags": []
   },
   "outputs": [
    {
     "data": {
      "text/plain": [
       "'010,20,30'"
      ]
     },
     "execution_count": 50,
     "metadata": {},
     "output_type": "execute_result"
    }
   ],
   "source": [
    "total_ad(num)"
   ]
  },
  {
   "cell_type": "code",
   "execution_count": 44,
   "id": "97048ef8-bbc5-4c09-8dcb-2c1cb32ae441",
   "metadata": {
    "tags": []
   },
   "outputs": [
    {
     "name": "stdout",
     "output_type": "stream",
     "text": [
      "30\n"
     ]
    }
   ],
   "source": [
    "num=[10,20,30]\n",
    "for i in num:\n",
    "    s=0\n",
    "    s+=i\n",
    "print(s)"
   ]
  },
  {
   "cell_type": "code",
   "execution_count": 3,
   "id": "fea8091f-68c7-41f4-b503-eb1c197ed1c3",
   "metadata": {},
   "outputs": [
    {
     "name": "stdout",
     "output_type": "stream",
     "text": [
      "600\n"
     ]
    }
   ],
   "source": [
    "numbers=[100,200,300]\n",
    "s=0\n",
    "for num in numbers:\n",
    "    s+=num\n",
    "print(s)"
   ]
  },
  {
   "cell_type": "code",
   "execution_count": 26,
   "id": "fc05202d-22f5-4aab-b270-efed3e790ec1",
   "metadata": {
    "tags": []
   },
   "outputs": [
    {
     "name": "stdout",
     "output_type": "stream",
     "text": [
      "enter data: 12000,15000,45600,45\n"
     ]
    },
    {
     "data": {
      "text/plain": [
       "72645"
      ]
     },
     "execution_count": 26,
     "metadata": {},
     "output_type": "execute_result"
    }
   ],
   "source": [
    "numbers=[]\n",
    "data=(input(\"enter data:\"))\n",
    "numbers=[int(x) for x in data.split(',')]\n",
    "def total_add(numbers):\n",
    "    total=0\n",
    "    for num in numbers:\n",
    "        total=int(total)\n",
    "        num=int(num)\n",
    "        total+=num\n",
    "    return total\n",
    "total_add(numbers)"
   ]
  },
  {
   "cell_type": "code",
   "execution_count": 24,
   "id": "bce04baa-979a-4120-bfd0-d7ab5825cbf5",
   "metadata": {
    "tags": []
   },
   "outputs": [
    {
     "data": {
      "text/plain": [
       "29200"
      ]
     },
     "execution_count": 24,
     "metadata": {},
     "output_type": "execute_result"
    }
   ],
   "source": []
  },
  {
   "cell_type": "code",
   "execution_count": 26,
   "id": "90ebd9e3-9da0-4558-ba70-fc55d0a197be",
   "metadata": {},
   "outputs": [
    {
     "name": "stdout",
     "output_type": "stream",
     "text": [
      "enter your string abcabcbb\n"
     ]
    },
    {
     "name": "stdout",
     "output_type": "stream",
     "text": [
      "\n",
      "['a', 'b', 'c', 'a', 'b', 'c', 'b', 'b']\n",
      "{'c', 'b', 'a'}\n",
      "3\n"
     ]
    }
   ],
   "source": [
    "s = input(\"enter your string\")\n",
    "a=[]\n",
    "\n",
    "def logestsubstr(s):\n",
    "    for i in s:\n",
    "        a.append(i)\n",
    "    print()\n",
    "    return(a)\n",
    "    \n",
    "logestsubstr(s)\n",
    "print(a)\n",
    "unique=set(a)\n",
    "print(unique)\n",
    "print(len(unique))\n"
   ]
  },
  {
   "cell_type": "code",
   "execution_count": 12,
   "id": "11a41863-fffc-4d85-bc74-7b8268add4d9",
   "metadata": {
    "tags": []
   },
   "outputs": [
    {
     "name": "stdout",
     "output_type": "stream",
     "text": [
      "enter your string abcd\n"
     ]
    },
    {
     "name": "stdout",
     "output_type": "stream",
     "text": [
      "1 a\n",
      "2 a\n",
      "3 a\n",
      "1 b\n",
      "2 b\n",
      "3 b\n",
      "1 c\n",
      "2 c\n",
      "3 c\n",
      "1 d\n",
      "2 d\n",
      "3 d\n",
      "\n"
     ]
    }
   ],
   "source": [
    "s = input(\"enter your string\")\n",
    "\n",
    "\n",
    "\n",
    "def logestsubstr(s):\n",
    "    for i in s:\n",
    "        for j in range(1,len(s)):\n",
    "             print(j,i)\n",
    "    print()\n",
    "    return a\n",
    "logestsubstr(s)\n",
    "   \n",
    "\n",
    "\n",
    "\n"
   ]
  },
  {
   "cell_type": "code",
   "execution_count": 30,
   "id": "9627de1a-5b1f-4cc1-a448-5044668c976e",
   "metadata": {
    "tags": []
   },
   "outputs": [
    {
     "name": "stdout",
     "output_type": "stream",
     "text": [
      "enter your string pwwkew\n"
     ]
    },
    {
     "name": "stdout",
     "output_type": "stream",
     "text": [
      "\n",
      "['p', 'w', 'w', 'k', 'e', 'w']\n",
      "['p', 'w', 'k', 'e']\n",
      "4\n"
     ]
    }
   ],
   "source": [
    "from collections import OrderedDict\n",
    "s = input(\"enter your string\")\n",
    "a=[]\n",
    "\n",
    "def logestsubstr(s):\n",
    "    for i in s:\n",
    "        a.append(i)\n",
    "    print()\n",
    "    return(a)\n",
    "    \n",
    "logestsubstr(s)\n",
    "print(a)\n",
    "#unique=set(a)\n",
    "#print(unique)\n",
    "#print(len(unique))\n",
    "ordered_set = list(OrderedDict.fromkeys(a))\n",
    "print(ordered_set)\n",
    "print(len(ordered_set))\n"
   ]
  },
  {
   "cell_type": "code",
   "execution_count": 5,
   "id": "85b73d22-7a70-41ad-9a4b-36fa9c6ab9fd",
   "metadata": {},
   "outputs": [
    {
     "name": "stdout",
     "output_type": "stream",
     "text": [
      "enter the number: 123\n"
     ]
    },
    {
     "name": "stdout",
     "output_type": "stream",
     "text": [
      "\n",
      "6\n"
     ]
    }
   ],
   "source": [
    "num=input(\"enter the number:\")\n",
    "sum=0\n",
    "for i in num:\n",
    "    num=int(num)\n",
    "    i=int(i)\n",
    "    sum=sum+i\n",
    "print()\n",
    "print(sum)\n",
    "    "
   ]
  },
  {
   "cell_type": "code",
   "execution_count": null,
   "id": "840efa65-cb5f-4aac-88cf-e32452c26ab2",
   "metadata": {},
   "outputs": [],
   "source": []
  }
 ],
 "metadata": {
  "kernelspec": {
   "display_name": "Python 3 (ipykernel)",
   "language": "python",
   "name": "python3"
  },
  "language_info": {
   "codemirror_mode": {
    "name": "ipython",
    "version": 3
   },
   "file_extension": ".py",
   "mimetype": "text/x-python",
   "name": "python",
   "nbconvert_exporter": "python",
   "pygments_lexer": "ipython3",
   "version": "3.11.4"
  },
  "widgets": {
   "application/vnd.jupyter.widget-state+json": {
    "state": {},
    "version_major": 2,
    "version_minor": 0
   }
  }
 },
 "nbformat": 4,
 "nbformat_minor": 5
}
